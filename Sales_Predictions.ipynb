{
 "cells": [
  {
   "cell_type": "markdown",
   "metadata": {
    "id": "eRN0GwscMPDW"
   },
   "source": [
    "# Importando librerias"
   ]
  },
  {
   "cell_type": "code",
   "execution_count": 48,
   "metadata": {
    "id": "96E1CVgOMN8B"
   },
   "outputs": [],
   "source": [
    "# Importar dataframe y visualizacion\n",
    "import pandas as pd\n",
    "import numpy as np\n",
    "import matplotlib.pyplot as plt\n",
    "import seaborn as sns\n",
    "from datetime import datetime, timedelta\n",
    "\n",
    "# Importar Modelos Regresion Lineal, Logistica, KNN, Random Forest, Árboles decisión, Kmeans\n",
    "from sklearn.model_selection import train_test_split\n",
    "from sklearn.preprocessing import StandardScaler\n",
    "from sklearn.metrics import recall_score\n",
    "from sklearn.linear_model import LinearRegression\n",
    "from sklearn.linear_model import LogisticRegression\n",
    "from sklearn.neighbors import KNeighborsClassifier\n",
    "from sklearn.ensemble import BaggingClassifier\n",
    "from sklearn.ensemble import RandomForestClassifier\n",
    "from sklearn.tree import DecisionTreeClassifier\n",
    "from sklearn.cluster import KMeans\n",
    "\n",
    "# Importar label \n",
    "from sklearn.preprocessing import LabelEncoder\n",
    "\n",
    "# Importar GridSearch para optimización \n",
    "from sklearn.model_selection import GridSearchCV\n",
    "\n",
    "# Importar Metricas\n",
    "from sklearn.metrics import classification_report\n",
    "from sklearn import metrics\n",
    "\n",
    "# Ignorar errores\n",
    "import warnings\n",
    "warnings.filterwarnings('ignore')"
   ]
  },
  {
   "cell_type": "markdown",
   "metadata": {
    "id": "Nl11Log33CZ_"
   },
   "source": [
    "# Informacion de la data"
   ]
  },
  {
   "cell_type": "code",
   "execution_count": 49,
   "metadata": {
    "colab": {
     "base_uri": "https://localhost:8080/",
     "height": 357
    },
    "id": "Zg4VKR7W3XWX",
    "outputId": "47f7359f-e152-4b7e-89d5-1c17128eec9b"
   },
   "outputs": [
    {
     "data": {
      "text/html": [
       "<div>\n",
       "<style scoped>\n",
       "    .dataframe tbody tr th:only-of-type {\n",
       "        vertical-align: middle;\n",
       "    }\n",
       "\n",
       "    .dataframe tbody tr th {\n",
       "        vertical-align: top;\n",
       "    }\n",
       "\n",
       "    .dataframe thead th {\n",
       "        text-align: right;\n",
       "    }\n",
       "</style>\n",
       "<table border=\"1\" class=\"dataframe\">\n",
       "  <thead>\n",
       "    <tr style=\"text-align: right;\">\n",
       "      <th></th>\n",
       "      <th>Item_Identifier</th>\n",
       "      <th>Item_Weight</th>\n",
       "      <th>Item_Fat_Content</th>\n",
       "      <th>Item_Visibility</th>\n",
       "      <th>Item_Type</th>\n",
       "      <th>Item_MRP</th>\n",
       "      <th>Outlet_Identifier</th>\n",
       "      <th>Outlet_Establishment_Year</th>\n",
       "      <th>Outlet_Size</th>\n",
       "      <th>Outlet_Location_Type</th>\n",
       "      <th>Outlet_Type</th>\n",
       "      <th>Item_Outlet_Sales</th>\n",
       "    </tr>\n",
       "  </thead>\n",
       "  <tbody>\n",
       "    <tr>\n",
       "      <th>0</th>\n",
       "      <td>FDA15</td>\n",
       "      <td>9.30</td>\n",
       "      <td>Low Fat</td>\n",
       "      <td>0.016047</td>\n",
       "      <td>Dairy</td>\n",
       "      <td>249.8092</td>\n",
       "      <td>OUT049</td>\n",
       "      <td>1999</td>\n",
       "      <td>Medium</td>\n",
       "      <td>Tier 1</td>\n",
       "      <td>Supermarket Type1</td>\n",
       "      <td>3735.1380</td>\n",
       "    </tr>\n",
       "    <tr>\n",
       "      <th>1</th>\n",
       "      <td>DRC01</td>\n",
       "      <td>5.92</td>\n",
       "      <td>Regular</td>\n",
       "      <td>0.019278</td>\n",
       "      <td>Soft Drinks</td>\n",
       "      <td>48.2692</td>\n",
       "      <td>OUT018</td>\n",
       "      <td>2009</td>\n",
       "      <td>Medium</td>\n",
       "      <td>Tier 3</td>\n",
       "      <td>Supermarket Type2</td>\n",
       "      <td>443.4228</td>\n",
       "    </tr>\n",
       "    <tr>\n",
       "      <th>2</th>\n",
       "      <td>FDN15</td>\n",
       "      <td>17.50</td>\n",
       "      <td>Low Fat</td>\n",
       "      <td>0.016760</td>\n",
       "      <td>Meat</td>\n",
       "      <td>141.6180</td>\n",
       "      <td>OUT049</td>\n",
       "      <td>1999</td>\n",
       "      <td>Medium</td>\n",
       "      <td>Tier 1</td>\n",
       "      <td>Supermarket Type1</td>\n",
       "      <td>2097.2700</td>\n",
       "    </tr>\n",
       "    <tr>\n",
       "      <th>3</th>\n",
       "      <td>FDX07</td>\n",
       "      <td>19.20</td>\n",
       "      <td>Regular</td>\n",
       "      <td>0.000000</td>\n",
       "      <td>Fruits and Vegetables</td>\n",
       "      <td>182.0950</td>\n",
       "      <td>OUT010</td>\n",
       "      <td>1998</td>\n",
       "      <td>NaN</td>\n",
       "      <td>Tier 3</td>\n",
       "      <td>Grocery Store</td>\n",
       "      <td>732.3800</td>\n",
       "    </tr>\n",
       "    <tr>\n",
       "      <th>4</th>\n",
       "      <td>NCD19</td>\n",
       "      <td>8.93</td>\n",
       "      <td>Low Fat</td>\n",
       "      <td>0.000000</td>\n",
       "      <td>Household</td>\n",
       "      <td>53.8614</td>\n",
       "      <td>OUT013</td>\n",
       "      <td>1987</td>\n",
       "      <td>High</td>\n",
       "      <td>Tier 3</td>\n",
       "      <td>Supermarket Type1</td>\n",
       "      <td>994.7052</td>\n",
       "    </tr>\n",
       "  </tbody>\n",
       "</table>\n",
       "</div>"
      ],
      "text/plain": [
       "  Item_Identifier  Item_Weight Item_Fat_Content  Item_Visibility  \\\n",
       "0           FDA15         9.30          Low Fat         0.016047   \n",
       "1           DRC01         5.92          Regular         0.019278   \n",
       "2           FDN15        17.50          Low Fat         0.016760   \n",
       "3           FDX07        19.20          Regular         0.000000   \n",
       "4           NCD19         8.93          Low Fat         0.000000   \n",
       "\n",
       "               Item_Type  Item_MRP Outlet_Identifier  \\\n",
       "0                  Dairy  249.8092            OUT049   \n",
       "1            Soft Drinks   48.2692            OUT018   \n",
       "2                   Meat  141.6180            OUT049   \n",
       "3  Fruits and Vegetables  182.0950            OUT010   \n",
       "4              Household   53.8614            OUT013   \n",
       "\n",
       "   Outlet_Establishment_Year Outlet_Size Outlet_Location_Type  \\\n",
       "0                       1999      Medium               Tier 1   \n",
       "1                       2009      Medium               Tier 3   \n",
       "2                       1999      Medium               Tier 1   \n",
       "3                       1998         NaN               Tier 3   \n",
       "4                       1987        High               Tier 3   \n",
       "\n",
       "         Outlet_Type  Item_Outlet_Sales  \n",
       "0  Supermarket Type1          3735.1380  \n",
       "1  Supermarket Type2           443.4228  \n",
       "2  Supermarket Type1          2097.2700  \n",
       "3      Grocery Store           732.3800  \n",
       "4  Supermarket Type1           994.7052  "
      ]
     },
     "execution_count": 49,
     "metadata": {},
     "output_type": "execute_result"
    }
   ],
   "source": [
    "filename = \"sales_predictions.csv\"\n",
    "df = pd.read_csv(filename)\n",
    "df.head()"
   ]
  },
  {
   "cell_type": "code",
   "execution_count": 50,
   "metadata": {},
   "outputs": [
    {
     "name": "stdout",
     "output_type": "stream",
     "text": [
      "<class 'pandas.core.frame.DataFrame'>\n",
      "RangeIndex: 8523 entries, 0 to 8522\n",
      "Data columns (total 12 columns):\n",
      " #   Column                     Non-Null Count  Dtype  \n",
      "---  ------                     --------------  -----  \n",
      " 0   Item_Identifier            8523 non-null   object \n",
      " 1   Item_Weight                7060 non-null   float64\n",
      " 2   Item_Fat_Content           8523 non-null   object \n",
      " 3   Item_Visibility            8523 non-null   float64\n",
      " 4   Item_Type                  8523 non-null   object \n",
      " 5   Item_MRP                   8523 non-null   float64\n",
      " 6   Outlet_Identifier          8523 non-null   object \n",
      " 7   Outlet_Establishment_Year  8523 non-null   int64  \n",
      " 8   Outlet_Size                6113 non-null   object \n",
      " 9   Outlet_Location_Type       8523 non-null   object \n",
      " 10  Outlet_Type                8523 non-null   object \n",
      " 11  Item_Outlet_Sales          8523 non-null   float64\n",
      "dtypes: float64(4), int64(1), object(7)\n",
      "memory usage: 799.2+ KB\n"
     ]
    }
   ],
   "source": [
    "df.info()"
   ]
  },
  {
   "cell_type": "markdown",
   "metadata": {
    "id": "NBm6MRonLpNE"
   },
   "source": [
    "# Datos estadisticos del data frame"
   ]
  },
  {
   "cell_type": "code",
   "execution_count": 51,
   "metadata": {
    "colab": {
     "base_uri": "https://localhost:8080/",
     "height": 300
    },
    "id": "1P4WZmSOJZ52",
    "outputId": "513d4871-6363-4810-d8b1-227266130104"
   },
   "outputs": [
    {
     "data": {
      "text/html": [
       "<div>\n",
       "<style scoped>\n",
       "    .dataframe tbody tr th:only-of-type {\n",
       "        vertical-align: middle;\n",
       "    }\n",
       "\n",
       "    .dataframe tbody tr th {\n",
       "        vertical-align: top;\n",
       "    }\n",
       "\n",
       "    .dataframe thead th {\n",
       "        text-align: right;\n",
       "    }\n",
       "</style>\n",
       "<table border=\"1\" class=\"dataframe\">\n",
       "  <thead>\n",
       "    <tr style=\"text-align: right;\">\n",
       "      <th></th>\n",
       "      <th>Item_Weight</th>\n",
       "      <th>Item_Visibility</th>\n",
       "      <th>Item_MRP</th>\n",
       "      <th>Outlet_Establishment_Year</th>\n",
       "      <th>Item_Outlet_Sales</th>\n",
       "    </tr>\n",
       "  </thead>\n",
       "  <tbody>\n",
       "    <tr>\n",
       "      <th>count</th>\n",
       "      <td>7060.000000</td>\n",
       "      <td>8523.000000</td>\n",
       "      <td>8523.000000</td>\n",
       "      <td>8523.000000</td>\n",
       "      <td>8523.000000</td>\n",
       "    </tr>\n",
       "    <tr>\n",
       "      <th>mean</th>\n",
       "      <td>12.857645</td>\n",
       "      <td>0.066132</td>\n",
       "      <td>140.992782</td>\n",
       "      <td>1997.831867</td>\n",
       "      <td>2181.288914</td>\n",
       "    </tr>\n",
       "    <tr>\n",
       "      <th>std</th>\n",
       "      <td>4.643456</td>\n",
       "      <td>0.051598</td>\n",
       "      <td>62.275067</td>\n",
       "      <td>8.371760</td>\n",
       "      <td>1706.499616</td>\n",
       "    </tr>\n",
       "    <tr>\n",
       "      <th>min</th>\n",
       "      <td>4.555000</td>\n",
       "      <td>0.000000</td>\n",
       "      <td>31.290000</td>\n",
       "      <td>1985.000000</td>\n",
       "      <td>33.290000</td>\n",
       "    </tr>\n",
       "    <tr>\n",
       "      <th>25%</th>\n",
       "      <td>8.773750</td>\n",
       "      <td>0.026989</td>\n",
       "      <td>93.826500</td>\n",
       "      <td>1987.000000</td>\n",
       "      <td>834.247400</td>\n",
       "    </tr>\n",
       "    <tr>\n",
       "      <th>50%</th>\n",
       "      <td>12.600000</td>\n",
       "      <td>0.053931</td>\n",
       "      <td>143.012800</td>\n",
       "      <td>1999.000000</td>\n",
       "      <td>1794.331000</td>\n",
       "    </tr>\n",
       "    <tr>\n",
       "      <th>75%</th>\n",
       "      <td>16.850000</td>\n",
       "      <td>0.094585</td>\n",
       "      <td>185.643700</td>\n",
       "      <td>2004.000000</td>\n",
       "      <td>3101.296400</td>\n",
       "    </tr>\n",
       "    <tr>\n",
       "      <th>max</th>\n",
       "      <td>21.350000</td>\n",
       "      <td>0.328391</td>\n",
       "      <td>266.888400</td>\n",
       "      <td>2009.000000</td>\n",
       "      <td>13086.964800</td>\n",
       "    </tr>\n",
       "  </tbody>\n",
       "</table>\n",
       "</div>"
      ],
      "text/plain": [
       "       Item_Weight  Item_Visibility     Item_MRP  Outlet_Establishment_Year  \\\n",
       "count  7060.000000      8523.000000  8523.000000                8523.000000   \n",
       "mean     12.857645         0.066132   140.992782                1997.831867   \n",
       "std       4.643456         0.051598    62.275067                   8.371760   \n",
       "min       4.555000         0.000000    31.290000                1985.000000   \n",
       "25%       8.773750         0.026989    93.826500                1987.000000   \n",
       "50%      12.600000         0.053931   143.012800                1999.000000   \n",
       "75%      16.850000         0.094585   185.643700                2004.000000   \n",
       "max      21.350000         0.328391   266.888400                2009.000000   \n",
       "\n",
       "       Item_Outlet_Sales  \n",
       "count        8523.000000  \n",
       "mean         2181.288914  \n",
       "std          1706.499616  \n",
       "min            33.290000  \n",
       "25%           834.247400  \n",
       "50%          1794.331000  \n",
       "75%          3101.296400  \n",
       "max         13086.964800  "
      ]
     },
     "execution_count": 51,
     "metadata": {},
     "output_type": "execute_result"
    }
   ],
   "source": [
    "df.describe()"
   ]
  },
  {
   "cell_type": "markdown",
   "metadata": {
    "id": "um-AMu4WLse1"
   },
   "source": [
    "# Trabajando datos nulos columna Item_Weight\n",
    "\n",
    "\n",
    "* Item_Weight (Variable Numerica), para esta columna, sacare un promedio a todos los ID que sean iguales y lo agregare en los NaN existentes en cada ID.  \n",
    "\n",
    "\n"
   ]
  },
  {
   "cell_type": "code",
   "execution_count": 52,
   "metadata": {},
   "outputs": [
    {
     "data": {
      "text/plain": [
       "Item_Identifier                 0\n",
       "Item_Weight                  1463\n",
       "Item_Fat_Content                0\n",
       "Item_Visibility                 0\n",
       "Item_Type                       0\n",
       "Item_MRP                        0\n",
       "Outlet_Identifier               0\n",
       "Outlet_Establishment_Year       0\n",
       "Outlet_Size                  2410\n",
       "Outlet_Location_Type            0\n",
       "Outlet_Type                     0\n",
       "Item_Outlet_Sales               0\n",
       "dtype: int64"
      ]
     },
     "execution_count": 52,
     "metadata": {},
     "output_type": "execute_result"
    }
   ],
   "source": [
    "df.isna().sum()"
   ]
  },
  {
   "cell_type": "code",
   "execution_count": 53,
   "metadata": {
    "colab": {
     "base_uri": "https://localhost:8080/"
    },
    "id": "Be3HMriWhoU8",
    "outputId": "8c9026cb-e2ed-4b39-fafe-b32eb561416b"
   },
   "outputs": [
    {
     "data": {
      "text/plain": [
       "FDW13    10\n",
       "FDG33    10\n",
       "NCY18     9\n",
       "FDD38     9\n",
       "DRE49     9\n",
       "         ..\n",
       "FDY43     1\n",
       "FDQ60     1\n",
       "FDO33     1\n",
       "DRF48     1\n",
       "FDC23     1\n",
       "Name: Item_Identifier, Length: 1559, dtype: int64"
      ]
     },
     "execution_count": 53,
     "metadata": {},
     "output_type": "execute_result"
    }
   ],
   "source": [
    "df[\"Item_Identifier\"].value_counts()"
   ]
  },
  {
   "cell_type": "code",
   "execution_count": 54,
   "metadata": {},
   "outputs": [],
   "source": [
    "def Upgrade_Item_Identifier_mean(Item_Identifier):\n",
    "    Item_Weight_filter  = df['Item_Identifier'] == Item_Identifier\n",
    "    values_mean = df[Item_Weight_filter]['Item_Weight'].mean()\n",
    "    return values_mean"
   ]
  },
  {
   "cell_type": "code",
   "execution_count": 55,
   "metadata": {},
   "outputs": [],
   "source": [
    "Item_Weight_filter_isna = df['Item_Weight'].isna()"
   ]
  },
  {
   "cell_type": "code",
   "execution_count": 56,
   "metadata": {
    "colab": {
     "base_uri": "https://localhost:8080/",
     "height": 661
    },
    "id": "guMV1RC84O74",
    "outputId": "3a50454a-3677-43ed-e5a0-185e159a83f8"
   },
   "outputs": [
    {
     "data": {
      "text/html": [
       "<div>\n",
       "<style scoped>\n",
       "    .dataframe tbody tr th:only-of-type {\n",
       "        vertical-align: middle;\n",
       "    }\n",
       "\n",
       "    .dataframe tbody tr th {\n",
       "        vertical-align: top;\n",
       "    }\n",
       "\n",
       "    .dataframe thead th {\n",
       "        text-align: right;\n",
       "    }\n",
       "</style>\n",
       "<table border=\"1\" class=\"dataframe\">\n",
       "  <thead>\n",
       "    <tr style=\"text-align: right;\">\n",
       "      <th></th>\n",
       "      <th>Item_Identifier</th>\n",
       "      <th>Item_Weight</th>\n",
       "      <th>Item_Fat_Content</th>\n",
       "      <th>Item_Visibility</th>\n",
       "      <th>Item_Type</th>\n",
       "      <th>Item_MRP</th>\n",
       "      <th>Outlet_Identifier</th>\n",
       "      <th>Outlet_Establishment_Year</th>\n",
       "      <th>Outlet_Size</th>\n",
       "      <th>Outlet_Location_Type</th>\n",
       "      <th>Outlet_Type</th>\n",
       "      <th>Item_Outlet_Sales</th>\n",
       "    </tr>\n",
       "  </thead>\n",
       "  <tbody>\n",
       "    <tr>\n",
       "      <th>7</th>\n",
       "      <td>FDP10</td>\n",
       "      <td>19.000</td>\n",
       "      <td>Low Fat</td>\n",
       "      <td>0.127470</td>\n",
       "      <td>Snack Foods</td>\n",
       "      <td>107.7622</td>\n",
       "      <td>OUT027</td>\n",
       "      <td>1985</td>\n",
       "      <td>Medium</td>\n",
       "      <td>Tier 3</td>\n",
       "      <td>Supermarket Type3</td>\n",
       "      <td>4022.7636</td>\n",
       "    </tr>\n",
       "    <tr>\n",
       "      <th>18</th>\n",
       "      <td>DRI11</td>\n",
       "      <td>8.260</td>\n",
       "      <td>Low Fat</td>\n",
       "      <td>0.034238</td>\n",
       "      <td>Hard Drinks</td>\n",
       "      <td>113.2834</td>\n",
       "      <td>OUT027</td>\n",
       "      <td>1985</td>\n",
       "      <td>Medium</td>\n",
       "      <td>Tier 3</td>\n",
       "      <td>Supermarket Type3</td>\n",
       "      <td>2303.6680</td>\n",
       "    </tr>\n",
       "    <tr>\n",
       "      <th>21</th>\n",
       "      <td>FDW12</td>\n",
       "      <td>8.315</td>\n",
       "      <td>Regular</td>\n",
       "      <td>0.035400</td>\n",
       "      <td>Baking Goods</td>\n",
       "      <td>144.5444</td>\n",
       "      <td>OUT027</td>\n",
       "      <td>1985</td>\n",
       "      <td>Medium</td>\n",
       "      <td>Tier 3</td>\n",
       "      <td>Supermarket Type3</td>\n",
       "      <td>4064.0432</td>\n",
       "    </tr>\n",
       "    <tr>\n",
       "      <th>23</th>\n",
       "      <td>FDC37</td>\n",
       "      <td>15.500</td>\n",
       "      <td>Low Fat</td>\n",
       "      <td>0.057557</td>\n",
       "      <td>Baking Goods</td>\n",
       "      <td>107.6938</td>\n",
       "      <td>OUT019</td>\n",
       "      <td>1985</td>\n",
       "      <td>Small</td>\n",
       "      <td>Tier 1</td>\n",
       "      <td>Grocery Store</td>\n",
       "      <td>214.3876</td>\n",
       "    </tr>\n",
       "    <tr>\n",
       "      <th>29</th>\n",
       "      <td>FDC14</td>\n",
       "      <td>14.500</td>\n",
       "      <td>Regular</td>\n",
       "      <td>0.072222</td>\n",
       "      <td>Canned</td>\n",
       "      <td>43.6454</td>\n",
       "      <td>OUT019</td>\n",
       "      <td>1985</td>\n",
       "      <td>Small</td>\n",
       "      <td>Tier 1</td>\n",
       "      <td>Grocery Store</td>\n",
       "      <td>125.8362</td>\n",
       "    </tr>\n",
       "    <tr>\n",
       "      <th>...</th>\n",
       "      <td>...</td>\n",
       "      <td>...</td>\n",
       "      <td>...</td>\n",
       "      <td>...</td>\n",
       "      <td>...</td>\n",
       "      <td>...</td>\n",
       "      <td>...</td>\n",
       "      <td>...</td>\n",
       "      <td>...</td>\n",
       "      <td>...</td>\n",
       "      <td>...</td>\n",
       "      <td>...</td>\n",
       "    </tr>\n",
       "    <tr>\n",
       "      <th>8485</th>\n",
       "      <td>DRK37</td>\n",
       "      <td>5.000</td>\n",
       "      <td>Low Fat</td>\n",
       "      <td>0.043792</td>\n",
       "      <td>Soft Drinks</td>\n",
       "      <td>189.0530</td>\n",
       "      <td>OUT027</td>\n",
       "      <td>1985</td>\n",
       "      <td>Medium</td>\n",
       "      <td>Tier 3</td>\n",
       "      <td>Supermarket Type3</td>\n",
       "      <td>6261.8490</td>\n",
       "    </tr>\n",
       "    <tr>\n",
       "      <th>8487</th>\n",
       "      <td>DRG13</td>\n",
       "      <td>17.250</td>\n",
       "      <td>Low Fat</td>\n",
       "      <td>0.037006</td>\n",
       "      <td>Soft Drinks</td>\n",
       "      <td>164.7526</td>\n",
       "      <td>OUT027</td>\n",
       "      <td>1985</td>\n",
       "      <td>Medium</td>\n",
       "      <td>Tier 3</td>\n",
       "      <td>Supermarket Type3</td>\n",
       "      <td>4111.3150</td>\n",
       "    </tr>\n",
       "    <tr>\n",
       "      <th>8488</th>\n",
       "      <td>NCN14</td>\n",
       "      <td>19.100</td>\n",
       "      <td>Low Fat</td>\n",
       "      <td>0.091473</td>\n",
       "      <td>Others</td>\n",
       "      <td>184.6608</td>\n",
       "      <td>OUT027</td>\n",
       "      <td>1985</td>\n",
       "      <td>Medium</td>\n",
       "      <td>Tier 3</td>\n",
       "      <td>Supermarket Type3</td>\n",
       "      <td>2756.4120</td>\n",
       "    </tr>\n",
       "    <tr>\n",
       "      <th>8490</th>\n",
       "      <td>FDU44</td>\n",
       "      <td>12.150</td>\n",
       "      <td>Regular</td>\n",
       "      <td>0.102296</td>\n",
       "      <td>Fruits and Vegetables</td>\n",
       "      <td>162.3552</td>\n",
       "      <td>OUT019</td>\n",
       "      <td>1985</td>\n",
       "      <td>Small</td>\n",
       "      <td>Tier 1</td>\n",
       "      <td>Grocery Store</td>\n",
       "      <td>487.3656</td>\n",
       "    </tr>\n",
       "    <tr>\n",
       "      <th>8504</th>\n",
       "      <td>NCN18</td>\n",
       "      <td>8.895</td>\n",
       "      <td>Low Fat</td>\n",
       "      <td>0.124111</td>\n",
       "      <td>Household</td>\n",
       "      <td>111.7544</td>\n",
       "      <td>OUT027</td>\n",
       "      <td>1985</td>\n",
       "      <td>Medium</td>\n",
       "      <td>Tier 3</td>\n",
       "      <td>Supermarket Type3</td>\n",
       "      <td>4138.6128</td>\n",
       "    </tr>\n",
       "  </tbody>\n",
       "</table>\n",
       "<p>1463 rows × 12 columns</p>\n",
       "</div>"
      ],
      "text/plain": [
       "     Item_Identifier  Item_Weight Item_Fat_Content  Item_Visibility  \\\n",
       "7              FDP10       19.000          Low Fat         0.127470   \n",
       "18             DRI11        8.260          Low Fat         0.034238   \n",
       "21             FDW12        8.315          Regular         0.035400   \n",
       "23             FDC37       15.500          Low Fat         0.057557   \n",
       "29             FDC14       14.500          Regular         0.072222   \n",
       "...              ...          ...              ...              ...   \n",
       "8485           DRK37        5.000          Low Fat         0.043792   \n",
       "8487           DRG13       17.250          Low Fat         0.037006   \n",
       "8488           NCN14       19.100          Low Fat         0.091473   \n",
       "8490           FDU44       12.150          Regular         0.102296   \n",
       "8504           NCN18        8.895          Low Fat         0.124111   \n",
       "\n",
       "                  Item_Type  Item_MRP Outlet_Identifier  \\\n",
       "7               Snack Foods  107.7622            OUT027   \n",
       "18              Hard Drinks  113.2834            OUT027   \n",
       "21             Baking Goods  144.5444            OUT027   \n",
       "23             Baking Goods  107.6938            OUT019   \n",
       "29                   Canned   43.6454            OUT019   \n",
       "...                     ...       ...               ...   \n",
       "8485            Soft Drinks  189.0530            OUT027   \n",
       "8487            Soft Drinks  164.7526            OUT027   \n",
       "8488                 Others  184.6608            OUT027   \n",
       "8490  Fruits and Vegetables  162.3552            OUT019   \n",
       "8504              Household  111.7544            OUT027   \n",
       "\n",
       "      Outlet_Establishment_Year Outlet_Size Outlet_Location_Type  \\\n",
       "7                          1985      Medium               Tier 3   \n",
       "18                         1985      Medium               Tier 3   \n",
       "21                         1985      Medium               Tier 3   \n",
       "23                         1985       Small               Tier 1   \n",
       "29                         1985       Small               Tier 1   \n",
       "...                         ...         ...                  ...   \n",
       "8485                       1985      Medium               Tier 3   \n",
       "8487                       1985      Medium               Tier 3   \n",
       "8488                       1985      Medium               Tier 3   \n",
       "8490                       1985       Small               Tier 1   \n",
       "8504                       1985      Medium               Tier 3   \n",
       "\n",
       "            Outlet_Type  Item_Outlet_Sales  \n",
       "7     Supermarket Type3          4022.7636  \n",
       "18    Supermarket Type3          2303.6680  \n",
       "21    Supermarket Type3          4064.0432  \n",
       "23        Grocery Store           214.3876  \n",
       "29        Grocery Store           125.8362  \n",
       "...                 ...                ...  \n",
       "8485  Supermarket Type3          6261.8490  \n",
       "8487  Supermarket Type3          4111.3150  \n",
       "8488  Supermarket Type3          2756.4120  \n",
       "8490      Grocery Store           487.3656  \n",
       "8504  Supermarket Type3          4138.6128  \n",
       "\n",
       "[1463 rows x 12 columns]"
      ]
     },
     "execution_count": 56,
     "metadata": {},
     "output_type": "execute_result"
    }
   ],
   "source": [
    "df.loc[Item_Weight_filter_isna , 'Item_Weight'] = df.apply(lambda x:Upgrade_Item_Identifier_mean( x['Item_Identifier']) ,axis=1 )\n",
    "df[Item_Weight_filter_isna]"
   ]
  },
  {
   "cell_type": "code",
   "execution_count": 57,
   "metadata": {},
   "outputs": [
    {
     "data": {
      "text/plain": [
       "Item_Identifier                 0\n",
       "Item_Weight                     4\n",
       "Item_Fat_Content                0\n",
       "Item_Visibility                 0\n",
       "Item_Type                       0\n",
       "Item_MRP                        0\n",
       "Outlet_Identifier               0\n",
       "Outlet_Establishment_Year       0\n",
       "Outlet_Size                  2410\n",
       "Outlet_Location_Type            0\n",
       "Outlet_Type                     0\n",
       "Item_Outlet_Sales               0\n",
       "dtype: int64"
      ]
     },
     "execution_count": 57,
     "metadata": {},
     "output_type": "execute_result"
    }
   ],
   "source": [
    "df.isna().sum()"
   ]
  },
  {
   "cell_type": "markdown",
   "metadata": {
    "id": "RkQpAFOlQQXy"
   },
   "source": [
    "# Trabajando datos nulos columna Outlet_Size\n",
    "\n",
    "*  Se remplazo los datos nulos con que todos los Outlet_Identifier iguales tuviesen el mismo Outlet_Size, el resto de datos nulos que queduen en la data se eliminarán junto a los duplicados si es que hay.            \n"
   ]
  },
  {
   "cell_type": "code",
   "execution_count": 58,
   "metadata": {
    "colab": {
     "base_uri": "https://localhost:8080/"
    },
    "id": "gsQ8VxrtLiad",
    "outputId": "6dc3c3d0-0997-4f0e-e2ae-b73c2f8879cc"
   },
   "outputs": [
    {
     "data": {
      "text/plain": [
       "Outlet_Size\n",
       "Medium         2793\n",
       "Small          2388\n",
       "High            932\n",
       "dtype: int64"
      ]
     },
     "execution_count": 58,
     "metadata": {},
     "output_type": "execute_result"
    }
   ],
   "source": [
    "df[[\"Outlet_Size\"]].value_counts()"
   ]
  },
  {
   "cell_type": "code",
   "execution_count": 59,
   "metadata": {
    "colab": {
     "base_uri": "https://localhost:8080/",
     "height": 661
    },
    "id": "_5v7aMqbipHG",
    "outputId": "fa741ea9-6d7d-4eec-c2a4-220bd1475c6a"
   },
   "outputs": [
    {
     "name": "stdout",
     "output_type": "stream",
     "text": [
      "{'OUT010': '', 'OUT045': '', 'OUT017': ''}\n"
     ]
    }
   ],
   "source": [
    "dicc={}\n",
    "\n",
    "for i in df.index:\n",
    "    if pd.isnull(df['Outlet_Size'][i]):\n",
    "        x = df['Outlet_Identifier'][i]\n",
    "        dicc[x]=''\n",
    "print(dicc)\n"
   ]
  },
  {
   "cell_type": "code",
   "execution_count": 60,
   "metadata": {
    "colab": {
     "base_uri": "https://localhost:8080/"
    },
    "id": "Eyie4rPYwh1q",
    "outputId": "f4b50c6d-a156-42e8-db4c-25eb31f2719f"
   },
   "outputs": [
    {
     "name": "stdout",
     "output_type": "stream",
     "text": [
      "{'OUT010': '', 'OUT045': '', 'OUT017': ''}\n"
     ]
    }
   ],
   "source": [
    "for sc in dicc:\n",
    "    for e in range(0, len(df['Outlet_Identifier'])):\n",
    "        if sc == df['Outlet_Identifier'][e] and pd.notnull(df['Outlet_Size'][e]):\n",
    "            dicc[sc]=df['Outlet_Size'][e]\n",
    "print(dicc)\n"
   ]
  },
  {
   "cell_type": "code",
   "execution_count": 61,
   "metadata": {
    "colab": {
     "base_uri": "https://localhost:8080/"
    },
    "id": "PtDO70MGyhTA",
    "outputId": "8bf3e564-e828-46c8-8940-0c447080a759"
   },
   "outputs": [],
   "source": [
    "for u in df.index:\n",
    "    if pd.isnull(df['Outlet_Size'][u]):\n",
    "        for sc in dicc:\n",
    "            if sc == df['Outlet_Identifier'][u] and dicc[sc]!=\"\":\n",
    "                df['Outlet_Size'][u] = dicc[sc]\n"
   ]
  },
  {
   "cell_type": "code",
   "execution_count": 62,
   "metadata": {},
   "outputs": [],
   "source": [
    "df=df.dropna()"
   ]
  },
  {
   "cell_type": "code",
   "execution_count": 63,
   "metadata": {},
   "outputs": [
    {
     "data": {
      "text/plain": [
       "Item_Identifier              0\n",
       "Item_Weight                  0\n",
       "Item_Fat_Content             0\n",
       "Item_Visibility              0\n",
       "Item_Type                    0\n",
       "Item_MRP                     0\n",
       "Outlet_Identifier            0\n",
       "Outlet_Establishment_Year    0\n",
       "Outlet_Size                  0\n",
       "Outlet_Location_Type         0\n",
       "Outlet_Type                  0\n",
       "Item_Outlet_Sales            0\n",
       "dtype: int64"
      ]
     },
     "execution_count": 63,
     "metadata": {},
     "output_type": "execute_result"
    }
   ],
   "source": [
    "df.isna().sum()"
   ]
  },
  {
   "cell_type": "markdown",
   "metadata": {
    "id": "5dpMQGr3QvU8"
   },
   "source": [
    "# Ordenando data por Ventas\n"
   ]
  },
  {
   "cell_type": "code",
   "execution_count": 64,
   "metadata": {
    "colab": {
     "base_uri": "https://localhost:8080/",
     "height": 357
    },
    "id": "RA7a_lMvQxbu",
    "outputId": "d3cb369f-15e3-4bdc-d64d-ccf00ab75d26"
   },
   "outputs": [
    {
     "data": {
      "text/html": [
       "<div>\n",
       "<style scoped>\n",
       "    .dataframe tbody tr th:only-of-type {\n",
       "        vertical-align: middle;\n",
       "    }\n",
       "\n",
       "    .dataframe tbody tr th {\n",
       "        vertical-align: top;\n",
       "    }\n",
       "\n",
       "    .dataframe thead th {\n",
       "        text-align: right;\n",
       "    }\n",
       "</style>\n",
       "<table border=\"1\" class=\"dataframe\">\n",
       "  <thead>\n",
       "    <tr style=\"text-align: right;\">\n",
       "      <th></th>\n",
       "      <th>Item_Identifier</th>\n",
       "      <th>Item_Weight</th>\n",
       "      <th>Item_Fat_Content</th>\n",
       "      <th>Item_Visibility</th>\n",
       "      <th>Item_Type</th>\n",
       "      <th>Item_MRP</th>\n",
       "      <th>Outlet_Identifier</th>\n",
       "      <th>Outlet_Establishment_Year</th>\n",
       "      <th>Outlet_Size</th>\n",
       "      <th>Outlet_Location_Type</th>\n",
       "      <th>Outlet_Type</th>\n",
       "      <th>Item_Outlet_Sales</th>\n",
       "    </tr>\n",
       "  </thead>\n",
       "  <tbody>\n",
       "    <tr>\n",
       "      <th>7188</th>\n",
       "      <td>NCE42</td>\n",
       "      <td>21.10</td>\n",
       "      <td>Low Fat</td>\n",
       "      <td>0.010551</td>\n",
       "      <td>Household</td>\n",
       "      <td>234.9958</td>\n",
       "      <td>OUT027</td>\n",
       "      <td>1985</td>\n",
       "      <td>Medium</td>\n",
       "      <td>Tier 3</td>\n",
       "      <td>Supermarket Type3</td>\n",
       "      <td>13086.9648</td>\n",
       "    </tr>\n",
       "    <tr>\n",
       "      <th>5223</th>\n",
       "      <td>FDQ19</td>\n",
       "      <td>7.35</td>\n",
       "      <td>Regular</td>\n",
       "      <td>0.014296</td>\n",
       "      <td>Fruits and Vegetables</td>\n",
       "      <td>242.6512</td>\n",
       "      <td>OUT027</td>\n",
       "      <td>1985</td>\n",
       "      <td>Medium</td>\n",
       "      <td>Tier 3</td>\n",
       "      <td>Supermarket Type3</td>\n",
       "      <td>12117.5600</td>\n",
       "    </tr>\n",
       "    <tr>\n",
       "      <th>1450</th>\n",
       "      <td>FDZ20</td>\n",
       "      <td>16.10</td>\n",
       "      <td>Low Fat</td>\n",
       "      <td>0.000000</td>\n",
       "      <td>Fruits and Vegetables</td>\n",
       "      <td>253.0356</td>\n",
       "      <td>OUT027</td>\n",
       "      <td>1985</td>\n",
       "      <td>Medium</td>\n",
       "      <td>Tier 3</td>\n",
       "      <td>Supermarket Type3</td>\n",
       "      <td>11445.1020</td>\n",
       "    </tr>\n",
       "    <tr>\n",
       "      <th>4349</th>\n",
       "      <td>FDP33</td>\n",
       "      <td>18.70</td>\n",
       "      <td>Low Fat</td>\n",
       "      <td>0.088840</td>\n",
       "      <td>Snack Foods</td>\n",
       "      <td>254.2672</td>\n",
       "      <td>OUT027</td>\n",
       "      <td>1985</td>\n",
       "      <td>Medium</td>\n",
       "      <td>Tier 3</td>\n",
       "      <td>Supermarket Type3</td>\n",
       "      <td>10993.6896</td>\n",
       "    </tr>\n",
       "    <tr>\n",
       "      <th>6541</th>\n",
       "      <td>FDI50</td>\n",
       "      <td>8.42</td>\n",
       "      <td>Regular</td>\n",
       "      <td>0.030693</td>\n",
       "      <td>Canned</td>\n",
       "      <td>228.0352</td>\n",
       "      <td>OUT027</td>\n",
       "      <td>1985</td>\n",
       "      <td>Medium</td>\n",
       "      <td>Tier 3</td>\n",
       "      <td>Supermarket Type3</td>\n",
       "      <td>10306.5840</td>\n",
       "    </tr>\n",
       "  </tbody>\n",
       "</table>\n",
       "</div>"
      ],
      "text/plain": [
       "     Item_Identifier  Item_Weight Item_Fat_Content  Item_Visibility  \\\n",
       "7188           NCE42        21.10          Low Fat         0.010551   \n",
       "5223           FDQ19         7.35          Regular         0.014296   \n",
       "1450           FDZ20        16.10          Low Fat         0.000000   \n",
       "4349           FDP33        18.70          Low Fat         0.088840   \n",
       "6541           FDI50         8.42          Regular         0.030693   \n",
       "\n",
       "                  Item_Type  Item_MRP Outlet_Identifier  \\\n",
       "7188              Household  234.9958            OUT027   \n",
       "5223  Fruits and Vegetables  242.6512            OUT027   \n",
       "1450  Fruits and Vegetables  253.0356            OUT027   \n",
       "4349            Snack Foods  254.2672            OUT027   \n",
       "6541                 Canned  228.0352            OUT027   \n",
       "\n",
       "      Outlet_Establishment_Year Outlet_Size Outlet_Location_Type  \\\n",
       "7188                       1985      Medium               Tier 3   \n",
       "5223                       1985      Medium               Tier 3   \n",
       "1450                       1985      Medium               Tier 3   \n",
       "4349                       1985      Medium               Tier 3   \n",
       "6541                       1985      Medium               Tier 3   \n",
       "\n",
       "            Outlet_Type  Item_Outlet_Sales  \n",
       "7188  Supermarket Type3         13086.9648  \n",
       "5223  Supermarket Type3         12117.5600  \n",
       "1450  Supermarket Type3         11445.1020  \n",
       "4349  Supermarket Type3         10993.6896  \n",
       "6541  Supermarket Type3         10306.5840  "
      ]
     },
     "execution_count": 64,
     "metadata": {},
     "output_type": "execute_result"
    }
   ],
   "source": [
    "df=df.sort_values(\"Item_Outlet_Sales\",ascending=False)\n",
    "df.head()"
   ]
  },
  {
   "cell_type": "markdown",
   "metadata": {
    "id": "ZRK-A-Q840o4"
   },
   "source": [
    "# Gráfico 1, Cantidad y Peso Promedio de productos por año"
   ]
  },
  {
   "cell_type": "code",
   "execution_count": 65,
   "metadata": {
    "colab": {
     "base_uri": "https://localhost:8080/"
    },
    "id": "8jtAAsCC5ebm",
    "outputId": "a3ad5270-f1e3-403f-b091-f0b7d8b8cd9e"
   },
   "outputs": [
    {
     "data": {
      "text/plain": [
       "Outlet_Establishment_Year\n",
       "1985    1138\n",
       "1987     932\n",
       "1997     930\n",
       "1999     930\n",
       "2004     930\n",
       "2009     928\n",
       "Name: Item_Identifier, dtype: int64"
      ]
     },
     "execution_count": 65,
     "metadata": {},
     "output_type": "execute_result"
    }
   ],
   "source": [
    "# conseguir número de producto por año\n",
    "numberUniqueYear = df.groupby(['Outlet_Establishment_Year'])['Item_Identifier'].nunique()\n",
    "# esta es una serie de pandas\n",
    "numberUniqueYear"
   ]
  },
  {
   "cell_type": "code",
   "execution_count": 66,
   "metadata": {
    "colab": {
     "base_uri": "https://localhost:8080/",
     "height": 436
    },
    "id": "qQK2ttsT3kRQ",
    "outputId": "9426c33a-6cc4-4df6-c1d3-06a62e1dd4f6"
   },
   "outputs": [
    {
     "data": {
      "image/png": "[encoded data removed]",
      "text/plain": [
       "<Figure size 576x396 with 1 Axes>"
      ]
     },
     "metadata": {},
     "output_type": "display_data"
    }
   ],
   "source": [
    "uniqueYears = list(numberUniqueYear.index)\n",
    "uniqueYears\n",
    "numproductos = list(numberUniqueYear.values)\n",
    "numproductos\n",
    "plt.style.use('seaborn')\n",
    "plt.plot(uniqueYears, numproductos,c = 'magenta', marker = '.', markersize = 20)\n",
    "plt.xlabel(\"Años\",fontsize=15)\n",
    "plt.ylabel(\"Cantidad de productos\",fontsize=15)\n",
    "plt.xticks(fontsize = 25);\n",
    "plt.yticks(fontsize = 25);\n",
    "plt.title(\"# productos por año\",fontsize=25)\n",
    "\n",
    "plt.grid()\n",
    "#plt.annotate('Estan fuera de la concentracion de datos', xy=(1996,200), xytext=(1995,700), arrowprops=dict(facecolor='black', shrink=0.05))"
   ]
  },
  {
   "cell_type": "code",
   "execution_count": 67,
   "metadata": {
    "colab": {
     "base_uri": "https://localhost:8080/"
    },
    "id": "CITo14WjLGmy",
    "outputId": "2b5423fe-423f-46b8-fff2-9cdd55d07443"
   },
   "outputs": [
    {
     "data": {
      "text/plain": [
       "Outlet_Establishment_Year\n",
       "1987    13.006148\n",
       "1985    12.961432\n",
       "1999    12.917446\n",
       "2009    12.873346\n",
       "1997    12.866801\n",
       "2004    12.829349\n",
       "Name: Item_Weight, dtype: float64"
      ]
     },
     "execution_count": 67,
     "metadata": {},
     "output_type": "execute_result"
    }
   ],
   "source": [
    "ID_W=df.groupby('Outlet_Establishment_Year')['Item_Weight'].mean().sort_values(ascending = False)\n",
    "ID_W"
   ]
  },
  {
   "cell_type": "code",
   "execution_count": 68,
   "metadata": {
    "colab": {
     "base_uri": "https://localhost:8080/",
     "height": 424
    },
    "id": "Af7y9WfFLR1N",
    "outputId": "edd08a00-7c94-48d7-ead5-569b97f72724"
   },
   "outputs": [
    {
     "data": {
      "image/png": "[encoded data removed]",
      "text/plain": [
       "<Figure size 576x396 with 1 Axes>"
      ]
     },
     "metadata": {},
     "output_type": "display_data"
    }
   ],
   "source": [
    "plt.plot(ID_W.index,ID_W.values, label = \"Peso\",c = 'blue', marker = '.', markersize = 20);\n",
    "plt.legend(loc=(1.02,0))\n",
    "plt.xlabel(\"Años \",fontsize=15);\n",
    "plt.ylabel(\"Peso Promedio\",fontsize=15);\n",
    "plt.title(\"Peso promedio por año\",fontsize=25);  \n",
    "plt.xticks(rotation = 90);"
   ]
  },
  {
   "cell_type": "markdown",
   "metadata": {},
   "source": [
    "Conclusiones Gráfico 1:\n",
    "* La cantidad de productos tuvo su pick en sus inicios llegando a tener aproximadamente 1150 productos en el año 1985 y luego tuvo una baja llegando a los años 2000, el resto es parejo. \n",
    "* El peso promedio de los productos va variando a lo largo de los año pero no cambia mucho mas alla del rango de [12.6-13]"
   ]
  },
  {
   "cell_type": "markdown",
   "metadata": {
    "id": "6q5SdUCx7e5h"
   },
   "source": [
    "# Gráfico 2, Cantidad, Peso promedio y Top 10 (%) por tipo "
   ]
  },
  {
   "cell_type": "code",
   "execution_count": 69,
   "metadata": {
    "id": "UMD1sLfP6hR3"
   },
   "outputs": [],
   "source": [
    "a=df.groupby(['Item_Type'])['Item_Identifier'].nunique()"
   ]
  },
  {
   "cell_type": "code",
   "execution_count": 70,
   "metadata": {
    "colab": {
     "base_uri": "https://localhost:8080/",
     "height": 587
    },
    "id": "S-2y0lxU6hUN",
    "outputId": "043965a3-5993-4339-9271-86409be629c8"
   },
   "outputs": [
    {
     "data": {
      "image/png": "[encoded data removed]",
      "text/plain": [
       "<Figure size 576x396 with 1 Axes>"
      ]
     },
     "metadata": {},
     "output_type": "display_data"
    }
   ],
   "source": [
    "#plt.bar(a.index, a.values);\n",
    "\n",
    "sns.barplot(a.index, a.values);\n",
    "plt.grid();\n",
    "plt.xlabel(\"Tipo de producto\",fontsize = 25)\n",
    "plt.ylabel(\"Cantidad\",fontsize = 25)\n",
    "plt.xticks(rotation = 90);\n",
    "plt.xticks(fontsize = 15);\n",
    "plt.yticks(fontsize = 15);"
   ]
  },
  {
   "cell_type": "code",
   "execution_count": 71,
   "metadata": {
    "colab": {
     "base_uri": "https://localhost:8080/",
     "height": 587
    },
    "id": "R17W2qQJDlkG",
    "outputId": "2a2cc472-a3fe-4199-c2d0-d7340ef413df"
   },
   "outputs": [
    {
     "data": {
      "image/png": "[encoded data removed]",
      "text/plain": [
       "<Figure size 576x396 with 1 Axes>"
      ]
     },
     "metadata": {},
     "output_type": "display_data"
    }
   ],
   "source": [
    "c=df.groupby(['Item_Type'])['Item_Weight'].mean()\n",
    "sns.barplot(c.index, c.values);\n",
    "plt.grid();\n",
    "plt.xlabel(\"Tipo\",fontsize = 25)\n",
    "plt.ylabel(\"Peso Promedio\",fontsize = 25)\n",
    "plt.xticks(rotation = 90);\n",
    "plt.xticks(fontsize = 15);\n",
    "plt.yticks(fontsize = 15);"
   ]
  },
  {
   "cell_type": "markdown",
   "metadata": {
    "id": "VgKB7uBcQ6Fo"
   },
   "source": [
    "* Se graficara el top 10 de de los tipo de productos que mas hay (en %)"
   ]
  },
  {
   "cell_type": "code",
   "execution_count": 72,
   "metadata": {
    "colab": {
     "base_uri": "https://localhost:8080/"
    },
    "id": "kbTwrXUeAYaf",
    "outputId": "d1ca8d18-816a-402f-dbf5-5b1db1a8b105"
   },
   "outputs": [
    {
     "data": {
      "text/plain": [
       "Item_Type\n",
       "Fruits and Vegetables    883\n",
       "Snack Foods              867\n",
       "Household                649\n",
       "Frozen Foods             614\n",
       "Dairy                    495\n",
       "Canned                   471\n",
       "Baking Goods             462\n",
       "Health and Hygiene       367\n",
       "Soft Drinks              312\n",
       "Meat                     309\n",
       "dtype: int64"
      ]
     },
     "execution_count": 72,
     "metadata": {},
     "output_type": "execute_result"
    }
   ],
   "source": [
    "r=df.groupby(\"Item_Type\").size().sort_values(ascending = False).head(10)\n",
    "r"
   ]
  },
  {
   "cell_type": "code",
   "execution_count": 73,
   "metadata": {
    "colab": {
     "base_uri": "https://localhost:8080/",
     "height": 763
    },
    "id": "21JUDwARAt9e",
    "outputId": "613efd3a-d376-4eb7-8f16-e2cb1f38ecd3"
   },
   "outputs": [
    {
     "data": {
      "image/png": "[encoded data removed]",
      "text/plain": [
       "<Figure size 1200x825 with 1 Axes>"
      ]
     },
     "metadata": {},
     "output_type": "display_data"
    }
   ],
   "source": [
    "import matplotlib.pyplot as plt\n",
    "\n",
    "#Gráfico de torta; cortes ordenados y gráficados contra reloj.\n",
    "size = r.values\n",
    "etiquetas = r.index\n",
    "#explotar = [0, 0, 0.1, 0] #sirve para destacar alguna porcion. El valor es cuanto se separa de la torta.\n",
    "\n",
    "fig1 = plt.figure(dpi=150)\n",
    "ax1 = fig1.add_subplot(1,1,1) \n",
    "\n",
    "ax1.pie(size, labels=etiquetas, autopct=\"%.2f%%\", shadow = False, startangle=-90)\n",
    "# autopct = porcentaje automático; shadow = grafico con sombra; startangle = ángulo de inicio\n",
    "# %.2f%% formato de decimal, viene del lenguaje C. Sí, python está escrito en C.\n",
    "\n",
    "ax1.axis(\"equal\") #asegura proporcion igualitaria, vale decir, suma de porcentajes 100% (círculo)\n",
    "\n",
    "\n",
    "\n",
    "plt.title(\"% por tipo de producto\",c=\"y\", fontsize=20)\n",
    "plt.show()"
   ]
  },
  {
   "cell_type": "markdown",
   "metadata": {},
   "source": [
    "Conclusiones Gráfico 2: \n",
    "* Frutas, Vegatales, Snacks y productos de Salud e Higiene (representan un 44% de los productos con un 16.28%,15.86% y 12.03% respectivamente) y se esperaria tambien que los que mas se vendan. \n",
    "* En general todo los productos tienen un peso promedio parecido, por lo que este no influiria mucho a la hora de que el producto se venda o no, ni en su almacenaje, etc. "
   ]
  },
  {
   "cell_type": "markdown",
   "metadata": {
    "id": "BAwGgWi9DVut"
   },
   "source": [
    "# Grafico 3: representa en cual supermercado hay una mayor cantidad de productos"
   ]
  },
  {
   "cell_type": "code",
   "execution_count": 74,
   "metadata": {
    "colab": {
     "base_uri": "https://localhost:8080/"
    },
    "id": "X75MmDQlC0eP",
    "outputId": "2cb43d65-81d0-461f-974f-7aa269941d6a"
   },
   "outputs": [
    {
     "data": {
      "text/plain": [
       "Outlet_Type\n",
       "Grocery Store         527\n",
       "Supermarket Type1    3722\n",
       "Supermarket Type2     928\n",
       "Supermarket Type3     932\n",
       "Name: Outlet_Type, dtype: int64"
      ]
     },
     "execution_count": 74,
     "metadata": {},
     "output_type": "execute_result"
    }
   ],
   "source": [
    "typo=df.groupby(\"Outlet_Type\")[\"Outlet_Type\"].count()\n",
    "typo"
   ]
  },
  {
   "cell_type": "code",
   "execution_count": 75,
   "metadata": {
    "colab": {
     "base_uri": "https://localhost:8080/",
     "height": 482
    },
    "id": "Vslkvn0ACMAN",
    "outputId": "436e97b8-45bd-4841-89d7-dd28c8d6841c"
   },
   "outputs": [
    {
     "data": {
      "image/png": "[encoded data removed]",
      "text/plain": [
       "<Figure size 800x550 with 1 Axes>"
      ]
     },
     "metadata": {},
     "output_type": "display_data"
    }
   ],
   "source": [
    "import matplotlib.pyplot as plt\n",
    "\n",
    "#Gráfico de torta; cortes ordenados y gráficados contra reloj.\n",
    "size = typo.values\n",
    "etiquetas = typo.index\n",
    "explotar = [0, 0.1, 0, 0] #sirve para destacar alguna porcion. El valor es cuanto se separa de la torta.\n",
    "\n",
    "fig1 = plt.figure(dpi=100)\n",
    "ax1 = fig1.add_subplot(1,1,1) \n",
    "\n",
    "ax1.pie(size, labels=etiquetas, explode=explotar, autopct=\"%.2f%%\", shadow = False, startangle=-90)\n",
    "# autopct = porcentaje automático; shadow = grafico con sombra; startangle = ángulo de inicio\n",
    "# %.2f%% formato de decimal, viene del lenguaje C. Sí, python está escrito en C.\n",
    "\n",
    "ax1.axis(\"equal\") #asegura proporcion igualitaria, vale decir, suma de porcentajes 100% (círculo)\n",
    "\n",
    "plt.show()"
   ]
  },
  {
   "cell_type": "markdown",
   "metadata": {},
   "source": [
    "Conclusión Gráfico 3:\n",
    "* Se puede ver claramente que los Superketmarket Type1 son aquellos supermercados donde mas productos se tiene y quizas tambien el que mas ventas o ingresos tengan. \n"
   ]
  },
  {
   "cell_type": "markdown",
   "metadata": {
    "id": "gCBpAvKV-YXO"
   },
   "source": [
    "# Grafico 4: Ventas por producto y por año"
   ]
  },
  {
   "cell_type": "code",
   "execution_count": 76,
   "metadata": {
    "colab": {
     "base_uri": "https://localhost:8080/",
     "height": 357
    },
    "id": "SJJYoyGxUPTl",
    "outputId": "58147f0e-b67d-42ec-b944-a7eac24c371a"
   },
   "outputs": [
    {
     "data": {
      "text/html": [
       "<div>\n",
       "<style scoped>\n",
       "    .dataframe tbody tr th:only-of-type {\n",
       "        vertical-align: middle;\n",
       "    }\n",
       "\n",
       "    .dataframe tbody tr th {\n",
       "        vertical-align: top;\n",
       "    }\n",
       "\n",
       "    .dataframe thead th {\n",
       "        text-align: right;\n",
       "    }\n",
       "</style>\n",
       "<table border=\"1\" class=\"dataframe\">\n",
       "  <thead>\n",
       "    <tr style=\"text-align: right;\">\n",
       "      <th></th>\n",
       "      <th>Item_Identifier</th>\n",
       "      <th>Item_Weight</th>\n",
       "      <th>Item_Fat_Content</th>\n",
       "      <th>Item_Visibility</th>\n",
       "      <th>Item_Type</th>\n",
       "      <th>Item_MRP</th>\n",
       "      <th>Outlet_Identifier</th>\n",
       "      <th>Outlet_Establishment_Year</th>\n",
       "      <th>Outlet_Size</th>\n",
       "      <th>Outlet_Location_Type</th>\n",
       "      <th>Outlet_Type</th>\n",
       "      <th>Item_Outlet_Sales</th>\n",
       "    </tr>\n",
       "  </thead>\n",
       "  <tbody>\n",
       "    <tr>\n",
       "      <th>7188</th>\n",
       "      <td>NCE42</td>\n",
       "      <td>21.10</td>\n",
       "      <td>Low Fat</td>\n",
       "      <td>0.010551</td>\n",
       "      <td>Household</td>\n",
       "      <td>234.9958</td>\n",
       "      <td>OUT027</td>\n",
       "      <td>1985</td>\n",
       "      <td>Medium</td>\n",
       "      <td>Tier 3</td>\n",
       "      <td>Supermarket Type3</td>\n",
       "      <td>13086.9648</td>\n",
       "    </tr>\n",
       "    <tr>\n",
       "      <th>5223</th>\n",
       "      <td>FDQ19</td>\n",
       "      <td>7.35</td>\n",
       "      <td>Regular</td>\n",
       "      <td>0.014296</td>\n",
       "      <td>Fruits and Vegetables</td>\n",
       "      <td>242.6512</td>\n",
       "      <td>OUT027</td>\n",
       "      <td>1985</td>\n",
       "      <td>Medium</td>\n",
       "      <td>Tier 3</td>\n",
       "      <td>Supermarket Type3</td>\n",
       "      <td>12117.5600</td>\n",
       "    </tr>\n",
       "    <tr>\n",
       "      <th>1450</th>\n",
       "      <td>FDZ20</td>\n",
       "      <td>16.10</td>\n",
       "      <td>Low Fat</td>\n",
       "      <td>0.000000</td>\n",
       "      <td>Fruits and Vegetables</td>\n",
       "      <td>253.0356</td>\n",
       "      <td>OUT027</td>\n",
       "      <td>1985</td>\n",
       "      <td>Medium</td>\n",
       "      <td>Tier 3</td>\n",
       "      <td>Supermarket Type3</td>\n",
       "      <td>11445.1020</td>\n",
       "    </tr>\n",
       "    <tr>\n",
       "      <th>4349</th>\n",
       "      <td>FDP33</td>\n",
       "      <td>18.70</td>\n",
       "      <td>Low Fat</td>\n",
       "      <td>0.088840</td>\n",
       "      <td>Snack Foods</td>\n",
       "      <td>254.2672</td>\n",
       "      <td>OUT027</td>\n",
       "      <td>1985</td>\n",
       "      <td>Medium</td>\n",
       "      <td>Tier 3</td>\n",
       "      <td>Supermarket Type3</td>\n",
       "      <td>10993.6896</td>\n",
       "    </tr>\n",
       "    <tr>\n",
       "      <th>6541</th>\n",
       "      <td>FDI50</td>\n",
       "      <td>8.42</td>\n",
       "      <td>Regular</td>\n",
       "      <td>0.030693</td>\n",
       "      <td>Canned</td>\n",
       "      <td>228.0352</td>\n",
       "      <td>OUT027</td>\n",
       "      <td>1985</td>\n",
       "      <td>Medium</td>\n",
       "      <td>Tier 3</td>\n",
       "      <td>Supermarket Type3</td>\n",
       "      <td>10306.5840</td>\n",
       "    </tr>\n",
       "  </tbody>\n",
       "</table>\n",
       "</div>"
      ],
      "text/plain": [
       "     Item_Identifier  Item_Weight Item_Fat_Content  Item_Visibility  \\\n",
       "7188           NCE42        21.10          Low Fat         0.010551   \n",
       "5223           FDQ19         7.35          Regular         0.014296   \n",
       "1450           FDZ20        16.10          Low Fat         0.000000   \n",
       "4349           FDP33        18.70          Low Fat         0.088840   \n",
       "6541           FDI50         8.42          Regular         0.030693   \n",
       "\n",
       "                  Item_Type  Item_MRP Outlet_Identifier  \\\n",
       "7188              Household  234.9958            OUT027   \n",
       "5223  Fruits and Vegetables  242.6512            OUT027   \n",
       "1450  Fruits and Vegetables  253.0356            OUT027   \n",
       "4349            Snack Foods  254.2672            OUT027   \n",
       "6541                 Canned  228.0352            OUT027   \n",
       "\n",
       "      Outlet_Establishment_Year Outlet_Size Outlet_Location_Type  \\\n",
       "7188                       1985      Medium               Tier 3   \n",
       "5223                       1985      Medium               Tier 3   \n",
       "1450                       1985      Medium               Tier 3   \n",
       "4349                       1985      Medium               Tier 3   \n",
       "6541                       1985      Medium               Tier 3   \n",
       "\n",
       "            Outlet_Type  Item_Outlet_Sales  \n",
       "7188  Supermarket Type3         13086.9648  \n",
       "5223  Supermarket Type3         12117.5600  \n",
       "1450  Supermarket Type3         11445.1020  \n",
       "4349  Supermarket Type3         10993.6896  \n",
       "6541  Supermarket Type3         10306.5840  "
      ]
     },
     "execution_count": 76,
     "metadata": {},
     "output_type": "execute_result"
    }
   ],
   "source": [
    "df.head()"
   ]
  },
  {
   "cell_type": "code",
   "execution_count": 77,
   "metadata": {
    "colab": {
     "base_uri": "https://localhost:8080/",
     "height": 486
    },
    "id": "ksG3QmMqy4NU",
    "outputId": "a81b4240-55ea-4abe-e886-dd46aff06224"
   },
   "outputs": [
    {
     "data": {
      "image/png": "[encoded data removed]",
      "text/plain": [
       "<Figure size 576x396 with 2 Axes>"
      ]
     },
     "metadata": {},
     "output_type": "display_data"
    }
   ],
   "source": [
    "# Subplot 1 \n",
    "plt.subplot(1, 2, 1);\n",
    "sns.barplot(df[\"Outlet_Identifier\"], df[\"Item_Outlet_Sales\"]);\n",
    "plt.xlabel(\"ID_Venta\")\n",
    "plt.ylabel(\"Ventas\")\n",
    "plt.title(\"Ventas por producto\")\n",
    "plt.xticks(rotation = 90);\n",
    "\n",
    "#plt.scatter(df_intercept['feature'].values, df_intercept['actual'].values, c= 'k');\n",
    "#plt.title('intercept', fontsize = 12);\n",
    "# Subplot 2\n",
    "plt.subplot(1, 2, 2);\n",
    "import seaborn as sns\n",
    "sns.barplot(df[\"Outlet_Establishment_Year\"], df[\"Item_Outlet_Sales\"]);\n",
    "plt.xlabel(\"Años\",c=\"blue\")\n",
    "plt.ylabel(\"Ventas\",c=\"blue\")\n",
    "plt.title(\"Ventas por año\",c=\"blue\")\n",
    "\n",
    "plt.tight_layout()"
   ]
  },
  {
   "cell_type": "markdown",
   "metadata": {},
   "source": [
    "Conclusiones gráfico 4:\n",
    "* El producto OUT027 es aquel producto que mas se vende, muy por sobre el resto y por otro lado aquellos productos OUT010 y OUT019 estan muy bajos en venta.\n",
    "* Se puede ver que en el año 1998 hubo una baja en ventas bastante importa, se desconoce el motivo. "
   ]
  },
  {
   "cell_type": "markdown",
   "metadata": {
    "id": "7P-1PPw7ZLtK"
   },
   "source": [
    "# Analisis estadistico de los datos, Hisogramas y Cajas\n",
    "* Se puede ver que los datos estan bastante...\n",
    "* Del grafico de caja podemos notar que la mediana de aquellos Outlet_Size small es mayor a la de los otros 2, pero por otro lado es aquel que tiene mayor cantidad de datos que puede producir sesgo.\n"
   ]
  },
  {
   "cell_type": "code",
   "execution_count": 78,
   "metadata": {
    "colab": {
     "base_uri": "https://localhost:8080/",
     "height": 357
    },
    "id": "XnAW1ztYaJ_3",
    "outputId": "02c149ec-be10-4968-d8d5-e3a665c1ab96"
   },
   "outputs": [
    {
     "data": {
      "text/html": [
       "<div>\n",
       "<style scoped>\n",
       "    .dataframe tbody tr th:only-of-type {\n",
       "        vertical-align: middle;\n",
       "    }\n",
       "\n",
       "    .dataframe tbody tr th {\n",
       "        vertical-align: top;\n",
       "    }\n",
       "\n",
       "    .dataframe thead th {\n",
       "        text-align: right;\n",
       "    }\n",
       "</style>\n",
       "<table border=\"1\" class=\"dataframe\">\n",
       "  <thead>\n",
       "    <tr style=\"text-align: right;\">\n",
       "      <th></th>\n",
       "      <th>Item_Identifier</th>\n",
       "      <th>Item_Weight</th>\n",
       "      <th>Item_Fat_Content</th>\n",
       "      <th>Item_Visibility</th>\n",
       "      <th>Item_Type</th>\n",
       "      <th>Item_MRP</th>\n",
       "      <th>Outlet_Identifier</th>\n",
       "      <th>Outlet_Establishment_Year</th>\n",
       "      <th>Outlet_Size</th>\n",
       "      <th>Outlet_Location_Type</th>\n",
       "      <th>Outlet_Type</th>\n",
       "      <th>Item_Outlet_Sales</th>\n",
       "    </tr>\n",
       "  </thead>\n",
       "  <tbody>\n",
       "    <tr>\n",
       "      <th>7188</th>\n",
       "      <td>NCE42</td>\n",
       "      <td>21.10</td>\n",
       "      <td>Low Fat</td>\n",
       "      <td>0.010551</td>\n",
       "      <td>Household</td>\n",
       "      <td>234.9958</td>\n",
       "      <td>OUT027</td>\n",
       "      <td>1985</td>\n",
       "      <td>Medium</td>\n",
       "      <td>Tier 3</td>\n",
       "      <td>Supermarket Type3</td>\n",
       "      <td>13086.9648</td>\n",
       "    </tr>\n",
       "    <tr>\n",
       "      <th>5223</th>\n",
       "      <td>FDQ19</td>\n",
       "      <td>7.35</td>\n",
       "      <td>Regular</td>\n",
       "      <td>0.014296</td>\n",
       "      <td>Fruits and Vegetables</td>\n",
       "      <td>242.6512</td>\n",
       "      <td>OUT027</td>\n",
       "      <td>1985</td>\n",
       "      <td>Medium</td>\n",
       "      <td>Tier 3</td>\n",
       "      <td>Supermarket Type3</td>\n",
       "      <td>12117.5600</td>\n",
       "    </tr>\n",
       "    <tr>\n",
       "      <th>1450</th>\n",
       "      <td>FDZ20</td>\n",
       "      <td>16.10</td>\n",
       "      <td>Low Fat</td>\n",
       "      <td>0.000000</td>\n",
       "      <td>Fruits and Vegetables</td>\n",
       "      <td>253.0356</td>\n",
       "      <td>OUT027</td>\n",
       "      <td>1985</td>\n",
       "      <td>Medium</td>\n",
       "      <td>Tier 3</td>\n",
       "      <td>Supermarket Type3</td>\n",
       "      <td>11445.1020</td>\n",
       "    </tr>\n",
       "    <tr>\n",
       "      <th>4349</th>\n",
       "      <td>FDP33</td>\n",
       "      <td>18.70</td>\n",
       "      <td>Low Fat</td>\n",
       "      <td>0.088840</td>\n",
       "      <td>Snack Foods</td>\n",
       "      <td>254.2672</td>\n",
       "      <td>OUT027</td>\n",
       "      <td>1985</td>\n",
       "      <td>Medium</td>\n",
       "      <td>Tier 3</td>\n",
       "      <td>Supermarket Type3</td>\n",
       "      <td>10993.6896</td>\n",
       "    </tr>\n",
       "    <tr>\n",
       "      <th>6541</th>\n",
       "      <td>FDI50</td>\n",
       "      <td>8.42</td>\n",
       "      <td>Regular</td>\n",
       "      <td>0.030693</td>\n",
       "      <td>Canned</td>\n",
       "      <td>228.0352</td>\n",
       "      <td>OUT027</td>\n",
       "      <td>1985</td>\n",
       "      <td>Medium</td>\n",
       "      <td>Tier 3</td>\n",
       "      <td>Supermarket Type3</td>\n",
       "      <td>10306.5840</td>\n",
       "    </tr>\n",
       "  </tbody>\n",
       "</table>\n",
       "</div>"
      ],
      "text/plain": [
       "     Item_Identifier  Item_Weight Item_Fat_Content  Item_Visibility  \\\n",
       "7188           NCE42        21.10          Low Fat         0.010551   \n",
       "5223           FDQ19         7.35          Regular         0.014296   \n",
       "1450           FDZ20        16.10          Low Fat         0.000000   \n",
       "4349           FDP33        18.70          Low Fat         0.088840   \n",
       "6541           FDI50         8.42          Regular         0.030693   \n",
       "\n",
       "                  Item_Type  Item_MRP Outlet_Identifier  \\\n",
       "7188              Household  234.9958            OUT027   \n",
       "5223  Fruits and Vegetables  242.6512            OUT027   \n",
       "1450  Fruits and Vegetables  253.0356            OUT027   \n",
       "4349            Snack Foods  254.2672            OUT027   \n",
       "6541                 Canned  228.0352            OUT027   \n",
       "\n",
       "      Outlet_Establishment_Year Outlet_Size Outlet_Location_Type  \\\n",
       "7188                       1985      Medium               Tier 3   \n",
       "5223                       1985      Medium               Tier 3   \n",
       "1450                       1985      Medium               Tier 3   \n",
       "4349                       1985      Medium               Tier 3   \n",
       "6541                       1985      Medium               Tier 3   \n",
       "\n",
       "            Outlet_Type  Item_Outlet_Sales  \n",
       "7188  Supermarket Type3         13086.9648  \n",
       "5223  Supermarket Type3         12117.5600  \n",
       "1450  Supermarket Type3         11445.1020  \n",
       "4349  Supermarket Type3         10993.6896  \n",
       "6541  Supermarket Type3         10306.5840  "
      ]
     },
     "execution_count": 78,
     "metadata": {},
     "output_type": "execute_result"
    }
   ],
   "source": [
    "df.head()"
   ]
  },
  {
   "cell_type": "code",
   "execution_count": 79,
   "metadata": {
    "colab": {
     "base_uri": "https://localhost:8080/",
     "height": 300
    },
    "id": "TJLLAvfGb55L",
    "outputId": "fa537a50-fd59-427a-a3e8-a16c833247e5"
   },
   "outputs": [
    {
     "data": {
      "text/html": [
       "<div>\n",
       "<style scoped>\n",
       "    .dataframe tbody tr th:only-of-type {\n",
       "        vertical-align: middle;\n",
       "    }\n",
       "\n",
       "    .dataframe tbody tr th {\n",
       "        vertical-align: top;\n",
       "    }\n",
       "\n",
       "    .dataframe thead th {\n",
       "        text-align: right;\n",
       "    }\n",
       "</style>\n",
       "<table border=\"1\" class=\"dataframe\">\n",
       "  <thead>\n",
       "    <tr style=\"text-align: right;\">\n",
       "      <th></th>\n",
       "      <th>Item_Weight</th>\n",
       "      <th>Item_Visibility</th>\n",
       "      <th>Item_MRP</th>\n",
       "      <th>Outlet_Establishment_Year</th>\n",
       "      <th>Item_Outlet_Sales</th>\n",
       "    </tr>\n",
       "  </thead>\n",
       "  <tbody>\n",
       "    <tr>\n",
       "      <th>count</th>\n",
       "      <td>6109.000000</td>\n",
       "      <td>6109.000000</td>\n",
       "      <td>6109.000000</td>\n",
       "      <td>6109.000000</td>\n",
       "      <td>6109.000000</td>\n",
       "    </tr>\n",
       "    <tr>\n",
       "      <th>mean</th>\n",
       "      <td>12.913663</td>\n",
       "      <td>0.064477</td>\n",
       "      <td>141.281070</td>\n",
       "      <td>1995.801440</td>\n",
       "      <td>2322.641393</td>\n",
       "    </tr>\n",
       "    <tr>\n",
       "      <th>std</th>\n",
       "      <td>4.667931</td>\n",
       "      <td>0.050073</td>\n",
       "      <td>62.241468</td>\n",
       "      <td>8.841193</td>\n",
       "      <td>1741.638109</td>\n",
       "    </tr>\n",
       "    <tr>\n",
       "      <th>min</th>\n",
       "      <td>4.555000</td>\n",
       "      <td>0.000000</td>\n",
       "      <td>31.290000</td>\n",
       "      <td>1985.000000</td>\n",
       "      <td>33.955800</td>\n",
       "    </tr>\n",
       "    <tr>\n",
       "      <th>25%</th>\n",
       "      <td>8.785000</td>\n",
       "      <td>0.026676</td>\n",
       "      <td>94.046200</td>\n",
       "      <td>1987.000000</td>\n",
       "      <td>974.731200</td>\n",
       "    </tr>\n",
       "    <tr>\n",
       "      <th>50%</th>\n",
       "      <td>12.650000</td>\n",
       "      <td>0.052800</td>\n",
       "      <td>143.215400</td>\n",
       "      <td>1997.000000</td>\n",
       "      <td>1928.156800</td>\n",
       "    </tr>\n",
       "    <tr>\n",
       "      <th>75%</th>\n",
       "      <td>17.000000</td>\n",
       "      <td>0.092811</td>\n",
       "      <td>185.955600</td>\n",
       "      <td>2004.000000</td>\n",
       "      <td>3266.414800</td>\n",
       "    </tr>\n",
       "    <tr>\n",
       "      <th>max</th>\n",
       "      <td>21.350000</td>\n",
       "      <td>0.328391</td>\n",
       "      <td>266.888400</td>\n",
       "      <td>2009.000000</td>\n",
       "      <td>13086.964800</td>\n",
       "    </tr>\n",
       "  </tbody>\n",
       "</table>\n",
       "</div>"
      ],
      "text/plain": [
       "       Item_Weight  Item_Visibility     Item_MRP  Outlet_Establishment_Year  \\\n",
       "count  6109.000000      6109.000000  6109.000000                6109.000000   \n",
       "mean     12.913663         0.064477   141.281070                1995.801440   \n",
       "std       4.667931         0.050073    62.241468                   8.841193   \n",
       "min       4.555000         0.000000    31.290000                1985.000000   \n",
       "25%       8.785000         0.026676    94.046200                1987.000000   \n",
       "50%      12.650000         0.052800   143.215400                1997.000000   \n",
       "75%      17.000000         0.092811   185.955600                2004.000000   \n",
       "max      21.350000         0.328391   266.888400                2009.000000   \n",
       "\n",
       "       Item_Outlet_Sales  \n",
       "count        6109.000000  \n",
       "mean         2322.641393  \n",
       "std          1741.638109  \n",
       "min            33.955800  \n",
       "25%           974.731200  \n",
       "50%          1928.156800  \n",
       "75%          3266.414800  \n",
       "max         13086.964800  "
      ]
     },
     "execution_count": 79,
     "metadata": {},
     "output_type": "execute_result"
    }
   ],
   "source": [
    "df.describe()"
   ]
  },
  {
   "cell_type": "code",
   "execution_count": 80,
   "metadata": {
    "colab": {
     "base_uri": "https://localhost:8080/",
     "height": 397
    },
    "id": "1-Ke1SitcDEo",
    "outputId": "a53a0d00-03eb-453d-b597-a346bfa10fb4"
   },
   "outputs": [
    {
     "data": {
      "image/png": "[encoded data removed]",
      "text/plain": [
       "<Figure size 576x396 with 5 Axes>"
      ]
     },
     "metadata": {},
     "output_type": "display_data"
    }
   ],
   "source": [
    "fig = plt.figure()\n",
    "ax1 = fig.add_subplot(2,3,1)\n",
    "ax1=df['Item_Visibility'].hist()\n",
    "plt.xlabel(\"Visibilidad\")\n",
    "plt.ylabel(\"Frecuencia\")\n",
    "\n",
    "\n",
    "\n",
    "ax2 = fig.add_subplot(2,3,2)\n",
    "ax2=df['Item_Weight'].hist()\n",
    "plt.xlabel(\"Peso Producto\")\n",
    "plt.ylabel(\"Frecuencia\")\n",
    "\n",
    "\n",
    "ax3 = fig.add_subplot(2,3,3)\n",
    "ax3=df['Item_MRP'].hist()\n",
    "plt.xlabel(\"MRP\")\n",
    "plt.ylabel(\"Frecuencia\")\n",
    "\n",
    "\n",
    "ax4 = fig.add_subplot(2,3,4)\n",
    "ax4=df['Item_Outlet_Sales'].hist()\n",
    "plt.xlabel(\"Ventas\")\n",
    "plt.ylabel(\"Frecuencia\")\n",
    "\n",
    "\n",
    "ax5 = fig.add_subplot(2,3,5)\n",
    "ax5=df['Outlet_Establishment_Year'].hist()\n",
    "plt.xlabel(\"Años\")\n",
    "plt.ylabel(\"Frecuencia\")\n",
    "\n",
    "fig.tight_layout()"
   ]
  },
  {
   "cell_type": "markdown",
   "metadata": {},
   "source": [
    "Conlclusión Histogramas:\n",
    "* Los histogramas de Peso y MRP son histogramas de poca calidad (existen muchas modas, por esto,muchas barras tienen misma frecuencia) , en cambio los de Visibilidad  y Ventas tiene mayor calidad pero no con tanta variacion (Tienen sesgo hacia la derecha)  "
   ]
  },
  {
   "cell_type": "code",
   "execution_count": 81,
   "metadata": {
    "colab": {
     "base_uri": "https://localhost:8080/",
     "height": 400
    },
    "id": "dvXvZ290bVQF",
    "outputId": "2d924879-5f2a-4e98-e333-b64e28c3ec0f"
   },
   "outputs": [
    {
     "data": {
      "text/plain": [
       "<AxesSubplot:xlabel='Outlet_Size', ylabel='Item_Visibility'>"
      ]
     },
     "execution_count": 81,
     "metadata": {},
     "output_type": "execute_result"
    },
    {
     "data": {
      "image/png": "[encoded data removed]",
      "text/plain": [
       "<Figure size 576x396 with 1 Axes>"
      ]
     },
     "metadata": {},
     "output_type": "display_data"
    }
   ],
   "source": [
    "sns.boxplot(x='Outlet_Size', y='Item_Visibility', data=df)"
   ]
  },
  {
   "cell_type": "markdown",
   "metadata": {},
   "source": [
    "Conclusión Gráfico de cajas \n",
    "* Los Size = Medium son aquellos datos que estan menos dispersos los mas dispesos son los Small.\n",
    "* Todos son asimetricos positivos, sus datos sobre la mediana estan mas sesgados positivamente."
   ]
  },
  {
   "cell_type": "markdown",
   "metadata": {
    "id": "AJLVm5uZffBW"
   },
   "source": [
    "# Correlacion entre variables (Mapa Calor)\n",
    "* Se puede ver que la mayor correlacion se alcanza entre el MRP del producto y sus Ventas"
   ]
  },
  {
   "cell_type": "code",
   "execution_count": 83,
   "metadata": {
    "colab": {
     "base_uri": "https://localhost:8080/",
     "height": 175
    },
    "id": "404Qtx8hfBC_",
    "outputId": "698c8fff-80ee-4632-9f72-bc9893120b31"
   },
   "outputs": [
    {
     "data": {
      "text/html": [
       "<div>\n",
       "<style scoped>\n",
       "    .dataframe tbody tr th:only-of-type {\n",
       "        vertical-align: middle;\n",
       "    }\n",
       "\n",
       "    .dataframe tbody tr th {\n",
       "        vertical-align: top;\n",
       "    }\n",
       "\n",
       "    .dataframe thead th {\n",
       "        text-align: right;\n",
       "    }\n",
       "</style>\n",
       "<table border=\"1\" class=\"dataframe\">\n",
       "  <thead>\n",
       "    <tr style=\"text-align: right;\">\n",
       "      <th></th>\n",
       "      <th>Item_Weight</th>\n",
       "      <th>Item_Visibility</th>\n",
       "      <th>Item_MRP</th>\n",
       "      <th>Outlet_Establishment_Year</th>\n",
       "      <th>Item_Outlet_Sales</th>\n",
       "    </tr>\n",
       "  </thead>\n",
       "  <tbody>\n",
       "    <tr>\n",
       "      <th>Item_Weight</th>\n",
       "      <td>1.000000</td>\n",
       "      <td>-0.004705</td>\n",
       "      <td>0.030273</td>\n",
       "      <td>-0.010668</td>\n",
       "      <td>0.010175</td>\n",
       "    </tr>\n",
       "    <tr>\n",
       "      <th>Item_Visibility</th>\n",
       "      <td>-0.004705</td>\n",
       "      <td>1.000000</td>\n",
       "      <td>-0.000406</td>\n",
       "      <td>-0.086863</td>\n",
       "      <td>-0.105331</td>\n",
       "    </tr>\n",
       "    <tr>\n",
       "      <th>Item_MRP</th>\n",
       "      <td>0.030273</td>\n",
       "      <td>-0.000406</td>\n",
       "      <td>1.000000</td>\n",
       "      <td>0.011164</td>\n",
       "      <td>0.589227</td>\n",
       "    </tr>\n",
       "    <tr>\n",
       "      <th>Outlet_Establishment_Year</th>\n",
       "      <td>-0.010668</td>\n",
       "      <td>-0.086863</td>\n",
       "      <td>0.011164</td>\n",
       "      <td>1.000000</td>\n",
       "      <td>-0.057863</td>\n",
       "    </tr>\n",
       "    <tr>\n",
       "      <th>Item_Outlet_Sales</th>\n",
       "      <td>0.010175</td>\n",
       "      <td>-0.105331</td>\n",
       "      <td>0.589227</td>\n",
       "      <td>-0.057863</td>\n",
       "      <td>1.000000</td>\n",
       "    </tr>\n",
       "  </tbody>\n",
       "</table>\n",
       "</div>"
      ],
      "text/plain": [
       "                           Item_Weight  Item_Visibility  Item_MRP  \\\n",
       "Item_Weight                   1.000000        -0.004705  0.030273   \n",
       "Item_Visibility              -0.004705         1.000000 -0.000406   \n",
       "Item_MRP                      0.030273        -0.000406  1.000000   \n",
       "Outlet_Establishment_Year    -0.010668        -0.086863  0.011164   \n",
       "Item_Outlet_Sales             0.010175        -0.105331  0.589227   \n",
       "\n",
       "                           Outlet_Establishment_Year  Item_Outlet_Sales  \n",
       "Item_Weight                                -0.010668           0.010175  \n",
       "Item_Visibility                            -0.086863          -0.105331  \n",
       "Item_MRP                                    0.011164           0.589227  \n",
       "Outlet_Establishment_Year                   1.000000          -0.057863  \n",
       "Item_Outlet_Sales                          -0.057863           1.000000  "
      ]
     },
     "execution_count": 83,
     "metadata": {},
     "output_type": "execute_result"
    }
   ],
   "source": [
    "df.corr()"
   ]
  },
  {
   "cell_type": "code",
   "execution_count": 41,
   "metadata": {
    "colab": {
     "base_uri": "https://localhost:8080/",
     "height": 560
    },
    "id": "fLkpNlShc4qf",
    "outputId": "d4c3c3be-f388-4b1f-bb0a-1318c7dce9f8"
   },
   "outputs": [
    {
     "data": {
      "image/png": "[encoded data removed]",
      "text/plain": [
       "<Figure size 648x648 with 2 Axes>"
      ]
     },
     "metadata": {},
     "output_type": "display_data"
    }
   ],
   "source": [
    "plt.figure(figsize=(9,9))\n",
    "sns.heatmap(df.corr(),annot=True,square=True,cmap=\"Blues\");\n",
    "#plt.title(\"Correlacion entre variables\",fontsize=25)\n",
    "plt.tick_params(labelsize=15)"
   ]
  },
  {
   "cell_type": "markdown",
   "metadata": {},
   "source": [
    "Conclusión Correlación\n",
    "* Aquellas Variables que mas relación tienen entre ellas son el MRP con Outlet_Sales"
   ]
  },
  {
   "cell_type": "markdown",
   "metadata": {},
   "source": [
    "# Regresion lineal\n",
    "* Transformaremos a tipo numerico aquellas variables categoricas mediante una transformación dummie"
   ]
  },
  {
   "cell_type": "code",
   "execution_count": 84,
   "metadata": {},
   "outputs": [],
   "source": [
    "from sklearn.linear_model import LinearRegression\n",
    "from sklearn.metrics import r2_score\n",
    "from sklearn.tree import DecisionTreeRegressor\n",
    "from sklearn.model_selection import train_test_split\n",
    "from sklearn.preprocessing import StandardScaler"
   ]
  },
  {
   "cell_type": "code",
   "execution_count": 85,
   "metadata": {},
   "outputs": [
    {
     "data": {
      "text/html": [
       "<div>\n",
       "<style scoped>\n",
       "    .dataframe tbody tr th:only-of-type {\n",
       "        vertical-align: middle;\n",
       "    }\n",
       "\n",
       "    .dataframe tbody tr th {\n",
       "        vertical-align: top;\n",
       "    }\n",
       "\n",
       "    .dataframe thead th {\n",
       "        text-align: right;\n",
       "    }\n",
       "</style>\n",
       "<table border=\"1\" class=\"dataframe\">\n",
       "  <thead>\n",
       "    <tr style=\"text-align: right;\">\n",
       "      <th></th>\n",
       "      <th>Item_Identifier</th>\n",
       "      <th>Item_Weight</th>\n",
       "      <th>Item_Visibility</th>\n",
       "      <th>Item_MRP</th>\n",
       "      <th>Outlet_Identifier</th>\n",
       "      <th>Outlet_Establishment_Year</th>\n",
       "      <th>Item_Outlet_Sales</th>\n",
       "      <th>Item_Fat_Content_LF</th>\n",
       "      <th>Item_Fat_Content_Low Fat</th>\n",
       "      <th>Item_Fat_Content_Regular</th>\n",
       "      <th>...</th>\n",
       "      <th>Outlet_Size_High</th>\n",
       "      <th>Outlet_Size_Medium</th>\n",
       "      <th>Outlet_Size_Small</th>\n",
       "      <th>Outlet_Location_Type_Tier 1</th>\n",
       "      <th>Outlet_Location_Type_Tier 2</th>\n",
       "      <th>Outlet_Location_Type_Tier 3</th>\n",
       "      <th>Outlet_Type_Grocery Store</th>\n",
       "      <th>Outlet_Type_Supermarket Type1</th>\n",
       "      <th>Outlet_Type_Supermarket Type2</th>\n",
       "      <th>Outlet_Type_Supermarket Type3</th>\n",
       "    </tr>\n",
       "  </thead>\n",
       "  <tbody>\n",
       "    <tr>\n",
       "      <th>7188</th>\n",
       "      <td>NCE42</td>\n",
       "      <td>21.10</td>\n",
       "      <td>0.010551</td>\n",
       "      <td>234.9958</td>\n",
       "      <td>OUT027</td>\n",
       "      <td>1985</td>\n",
       "      <td>13086.9648</td>\n",
       "      <td>0</td>\n",
       "      <td>1</td>\n",
       "      <td>0</td>\n",
       "      <td>...</td>\n",
       "      <td>0</td>\n",
       "      <td>1</td>\n",
       "      <td>0</td>\n",
       "      <td>0</td>\n",
       "      <td>0</td>\n",
       "      <td>1</td>\n",
       "      <td>0</td>\n",
       "      <td>0</td>\n",
       "      <td>0</td>\n",
       "      <td>1</td>\n",
       "    </tr>\n",
       "    <tr>\n",
       "      <th>5223</th>\n",
       "      <td>FDQ19</td>\n",
       "      <td>7.35</td>\n",
       "      <td>0.014296</td>\n",
       "      <td>242.6512</td>\n",
       "      <td>OUT027</td>\n",
       "      <td>1985</td>\n",
       "      <td>12117.5600</td>\n",
       "      <td>0</td>\n",
       "      <td>0</td>\n",
       "      <td>1</td>\n",
       "      <td>...</td>\n",
       "      <td>0</td>\n",
       "      <td>1</td>\n",
       "      <td>0</td>\n",
       "      <td>0</td>\n",
       "      <td>0</td>\n",
       "      <td>1</td>\n",
       "      <td>0</td>\n",
       "      <td>0</td>\n",
       "      <td>0</td>\n",
       "      <td>1</td>\n",
       "    </tr>\n",
       "    <tr>\n",
       "      <th>1450</th>\n",
       "      <td>FDZ20</td>\n",
       "      <td>16.10</td>\n",
       "      <td>0.000000</td>\n",
       "      <td>253.0356</td>\n",
       "      <td>OUT027</td>\n",
       "      <td>1985</td>\n",
       "      <td>11445.1020</td>\n",
       "      <td>0</td>\n",
       "      <td>1</td>\n",
       "      <td>0</td>\n",
       "      <td>...</td>\n",
       "      <td>0</td>\n",
       "      <td>1</td>\n",
       "      <td>0</td>\n",
       "      <td>0</td>\n",
       "      <td>0</td>\n",
       "      <td>1</td>\n",
       "      <td>0</td>\n",
       "      <td>0</td>\n",
       "      <td>0</td>\n",
       "      <td>1</td>\n",
       "    </tr>\n",
       "    <tr>\n",
       "      <th>4349</th>\n",
       "      <td>FDP33</td>\n",
       "      <td>18.70</td>\n",
       "      <td>0.088840</td>\n",
       "      <td>254.2672</td>\n",
       "      <td>OUT027</td>\n",
       "      <td>1985</td>\n",
       "      <td>10993.6896</td>\n",
       "      <td>0</td>\n",
       "      <td>1</td>\n",
       "      <td>0</td>\n",
       "      <td>...</td>\n",
       "      <td>0</td>\n",
       "      <td>1</td>\n",
       "      <td>0</td>\n",
       "      <td>0</td>\n",
       "      <td>0</td>\n",
       "      <td>1</td>\n",
       "      <td>0</td>\n",
       "      <td>0</td>\n",
       "      <td>0</td>\n",
       "      <td>1</td>\n",
       "    </tr>\n",
       "    <tr>\n",
       "      <th>6541</th>\n",
       "      <td>FDI50</td>\n",
       "      <td>8.42</td>\n",
       "      <td>0.030693</td>\n",
       "      <td>228.0352</td>\n",
       "      <td>OUT027</td>\n",
       "      <td>1985</td>\n",
       "      <td>10306.5840</td>\n",
       "      <td>0</td>\n",
       "      <td>0</td>\n",
       "      <td>1</td>\n",
       "      <td>...</td>\n",
       "      <td>0</td>\n",
       "      <td>1</td>\n",
       "      <td>0</td>\n",
       "      <td>0</td>\n",
       "      <td>0</td>\n",
       "      <td>1</td>\n",
       "      <td>0</td>\n",
       "      <td>0</td>\n",
       "      <td>0</td>\n",
       "      <td>1</td>\n",
       "    </tr>\n",
       "  </tbody>\n",
       "</table>\n",
       "<p>5 rows × 38 columns</p>\n",
       "</div>"
      ],
      "text/plain": [
       "     Item_Identifier  Item_Weight  Item_Visibility  Item_MRP  \\\n",
       "7188           NCE42        21.10         0.010551  234.9958   \n",
       "5223           FDQ19         7.35         0.014296  242.6512   \n",
       "1450           FDZ20        16.10         0.000000  253.0356   \n",
       "4349           FDP33        18.70         0.088840  254.2672   \n",
       "6541           FDI50         8.42         0.030693  228.0352   \n",
       "\n",
       "     Outlet_Identifier  Outlet_Establishment_Year  Item_Outlet_Sales  \\\n",
       "7188            OUT027                       1985         13086.9648   \n",
       "5223            OUT027                       1985         12117.5600   \n",
       "1450            OUT027                       1985         11445.1020   \n",
       "4349            OUT027                       1985         10993.6896   \n",
       "6541            OUT027                       1985         10306.5840   \n",
       "\n",
       "      Item_Fat_Content_LF  Item_Fat_Content_Low Fat  Item_Fat_Content_Regular  \\\n",
       "7188                    0                         1                         0   \n",
       "5223                    0                         0                         1   \n",
       "1450                    0                         1                         0   \n",
       "4349                    0                         1                         0   \n",
       "6541                    0                         0                         1   \n",
       "\n",
       "      ...  Outlet_Size_High  Outlet_Size_Medium  Outlet_Size_Small  \\\n",
       "7188  ...                 0                   1                  0   \n",
       "5223  ...                 0                   1                  0   \n",
       "1450  ...                 0                   1                  0   \n",
       "4349  ...                 0                   1                  0   \n",
       "6541  ...                 0                   1                  0   \n",
       "\n",
       "      Outlet_Location_Type_Tier 1  Outlet_Location_Type_Tier 2  \\\n",
       "7188                            0                            0   \n",
       "5223                            0                            0   \n",
       "1450                            0                            0   \n",
       "4349                            0                            0   \n",
       "6541                            0                            0   \n",
       "\n",
       "      Outlet_Location_Type_Tier 3  Outlet_Type_Grocery Store  \\\n",
       "7188                            1                          0   \n",
       "5223                            1                          0   \n",
       "1450                            1                          0   \n",
       "4349                            1                          0   \n",
       "6541                            1                          0   \n",
       "\n",
       "      Outlet_Type_Supermarket Type1  Outlet_Type_Supermarket Type2  \\\n",
       "7188                              0                              0   \n",
       "5223                              0                              0   \n",
       "1450                              0                              0   \n",
       "4349                              0                              0   \n",
       "6541                              0                              0   \n",
       "\n",
       "      Outlet_Type_Supermarket Type3  \n",
       "7188                              1  \n",
       "5223                              1  \n",
       "1450                              1  \n",
       "4349                              1  \n",
       "6541                              1  \n",
       "\n",
       "[5 rows x 38 columns]"
      ]
     },
     "execution_count": 85,
     "metadata": {},
     "output_type": "execute_result"
    }
   ],
   "source": [
    "df2=pd.get_dummies(data=df, columns = [\"Item_Fat_Content\",\"Item_Type\",\"Outlet_Size\",\"Outlet_Location_Type\",\"Outlet_Type\"])\n",
    "df2.head()"
   ]
  },
  {
   "cell_type": "code",
   "execution_count": 86,
   "metadata": {
    "id": "bQufhki4qaJO"
   },
   "outputs": [],
   "source": [
    "X_train, X_test, y_train, y_test = train_test_split(\n",
    "                                        df2.drop(columns = [\"Item_Outlet_Sales\",\"Item_Identifier\",\"Outlet_Identifier\",\"Outlet_Establishment_Year\"]),\n",
    "                                        df2['Item_Outlet_Sales'],\n",
    "                                        random_state = 123)\n",
    "\n",
    "modelo = LinearRegression()\n",
    "modelo.fit(X = X_train, y = y_train)\n",
    "predictions = modelo.predict(X_test)\n",
    "r2=r2_score(y_test,predictions)"
   ]
  },
  {
   "cell_type": "code",
   "execution_count": 87,
   "metadata": {},
   "outputs": [
    {
     "data": {
      "text/plain": [
       "0.5403522564511661"
      ]
     },
     "execution_count": 87,
     "metadata": {},
     "output_type": "execute_result"
    }
   ],
   "source": [
    "r2"
   ]
  },
  {
   "cell_type": "markdown",
   "metadata": {},
   "source": [
    "# KNN"
   ]
  },
  {
   "cell_type": "code",
   "execution_count": 88,
   "metadata": {},
   "outputs": [],
   "source": [
    "from sklearn.preprocessing import StandardScaler\n",
    "from sklearn.model_selection import train_test_split\n",
    "from sklearn.neighbors import KNeighborsRegressor"
   ]
  },
  {
   "cell_type": "code",
   "execution_count": 89,
   "metadata": {},
   "outputs": [],
   "source": [
    "\n",
    "X_train, X_test, y_train, y_test = train_test_split(\n",
    "                                        df2.drop(columns = [\"Item_Outlet_Sales\",\"Item_Identifier\",\"Outlet_Identifier\",\"Outlet_Establishment_Year\"]),\n",
    "                                        df2['Item_Outlet_Sales'],\n",
    "                                        random_state = 123)\n",
    "\n",
    "regressor = KNeighborsRegressor(n_neighbors=2)\n",
    "regressor.fit(X_train, y_train)\n",
    "predictions = regressor.predict(X_test)\n",
    "r2=r2_score(y_test,predictions)"
   ]
  },
  {
   "cell_type": "code",
   "execution_count": 90,
   "metadata": {},
   "outputs": [
    {
     "data": {
      "text/plain": [
       "0.20603181602998333"
      ]
     },
     "execution_count": 90,
     "metadata": {},
     "output_type": "execute_result"
    }
   ],
   "source": [
    "r2"
   ]
  },
  {
   "cell_type": "markdown",
   "metadata": {},
   "source": [
    "# Arbol Decision"
   ]
  },
  {
   "cell_type": "code",
   "execution_count": 91,
   "metadata": {},
   "outputs": [],
   "source": [
    "from sklearn.tree import DecisionTreeRegressor\n",
    "\n",
    "X_train, X_test, y_train, y_test = train_test_split(\n",
    "                                        df2.drop(columns = [\"Item_Outlet_Sales\",\"Item_Identifier\",\"Outlet_Identifier\",\"Outlet_Establishment_Year\"]),\n",
    "                                        df2['Item_Outlet_Sales'],\n",
    "                                        random_state = 123)\n",
    "\n",
    "arbol_reg = DecisionTreeRegressor(random_state = 0)\n",
    "arbol_reg.fit(X_train, y_train)\n",
    "predictions = arbol_reg.predict(X_test)\n",
    "r2=r2_score(y_test,predictions)"
   ]
  },
  {
   "cell_type": "code",
   "execution_count": 92,
   "metadata": {},
   "outputs": [
    {
     "data": {
      "text/plain": [
       "0.16800790782172603"
      ]
     },
     "execution_count": 92,
     "metadata": {},
     "output_type": "execute_result"
    }
   ],
   "source": [
    "r2"
   ]
  },
  {
   "cell_type": "markdown",
   "metadata": {},
   "source": [
    "# Conclusion de regresiones\n",
    "* La regresion lineal es aquella que mas me sirve para aplicar un modelo ya que me entrega un r2 mayor que los otros 2 metodos.\n",
    "* A pesar de lograr un r2 de 0.51, se puede ver que el modelo predicho aun es malo al entregar un r2 bajo.\n",
    "* RL_r2=0.51  , KNN_r2= 0.23,  TREE_r2 = 0.15"
   ]
  }
 ],
 "metadata": {
  "colab": {
   "collapsed_sections": [],
   "name": "Sales_Predictions3.ipynb",
   "provenance": []
  },
  "kernelspec": {
   "display_name": "Python 3",
   "language": "python",
   "name": "python3"
  },
  "language_info": {
   "codemirror_mode": {
    "name": "ipython",
    "version": 3
   },
   "file_extension": ".py",
   "mimetype": "text/x-python",
   "name": "python",
   "nbconvert_exporter": "python",
   "pygments_lexer": "ipython3",
   "version": "3.8.8"
  }
 },
 "nbformat": 4,
 "nbformat_minor": 1
}
